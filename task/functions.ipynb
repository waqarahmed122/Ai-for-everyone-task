{
 "cells": [
  {
   "cell_type": "markdown",
   "id": "52f411cf",
   "metadata": {},
   "source": [
    "# python Functions\n"
   ]
  },
  {
   "cell_type": "code",
   "execution_count": null,
   "id": "55e78d75",
   "metadata": {},
   "outputs": [],
   "source": [
    "# sort function\n",
    "prices=[24,21,22.4,25]\n",
    "prices.sort()\n",
    "print (prices)"
   ]
  },
  {
   "cell_type": "code",
   "execution_count": 4,
   "id": "b21cc842",
   "metadata": {},
   "outputs": [
    {
     "name": "stdout",
     "output_type": "stream",
     "text": [
      "['january', 'february', 'march', 'April']\n"
     ]
    }
   ],
   "source": [
    "#append function\n",
    "months=[\"january\",\"february\",\"march\"]\n",
    "months.append(\"April\")\n",
    "print (months)"
   ]
  },
  {
   "cell_type": "code",
   "execution_count": 8,
   "id": "552dc975",
   "metadata": {},
   "outputs": [
    {
     "data": {
      "text/plain": [
       "1"
      ]
     },
     "execution_count": 8,
     "metadata": {},
     "output_type": "execute_result"
    }
   ],
   "source": [
    "# index function\n",
    "month=[\"january\",\"february\",\"march\"]\n",
    "month.index(\"february\")\n"
   ]
  },
  {
   "cell_type": "code",
   "execution_count": 10,
   "id": "aeed6857",
   "metadata": {},
   "outputs": [
    {
     "name": "stdout",
     "output_type": "stream",
     "text": [
      "55\n"
     ]
    }
   ],
   "source": [
    "#max function\n",
    "rates=[55,45,54]\n",
    "newRate=max(rates)\n",
    "print(newRate)"
   ]
  },
  {
   "cell_type": "code",
   "execution_count": 11,
   "id": "8bf7a85c",
   "metadata": {},
   "outputs": [
    {
     "name": "stdout",
     "output_type": "stream",
     "text": [
      "45\n"
     ]
    }
   ],
   "source": [
    "#min function\n",
    "rates=[55,45,54]\n",
    "newRate=min(rates)\n",
    "print(newRate)"
   ]
  },
  {
   "cell_type": "code",
   "execution_count": 12,
   "id": "30ea6b1b",
   "metadata": {},
   "outputs": [
    {
     "name": "stdout",
     "output_type": "stream",
     "text": [
      "<class 'int'>\n"
     ]
    }
   ],
   "source": [
    "# type function\n",
    "a=4\n",
    "print(type(a))"
   ]
  },
  {
   "cell_type": "code",
   "execution_count": 15,
   "id": "efa5a492",
   "metadata": {},
   "outputs": [
    {
     "name": "stdout",
     "output_type": "stream",
     "text": [
      "11\n"
     ]
    }
   ],
   "source": [
    "# length function\n",
    "name=\"Waqar Ahmed\"\n",
    "print(len(name))"
   ]
  },
  {
   "cell_type": "code",
   "execution_count": 16,
   "id": "ff48c355",
   "metadata": {},
   "outputs": [
    {
     "name": "stdout",
     "output_type": "stream",
     "text": [
      "['qasim'] ['qasim']\n"
     ]
    }
   ],
   "source": [
    "#copy function\n",
    "saylani=[\"qasim\"]\n",
    "stud=saylani.copy()\n",
    "print(saylani,stud)"
   ]
  },
  {
   "cell_type": "code",
   "execution_count": 18,
   "id": "6ceafa5f",
   "metadata": {},
   "outputs": [
    {
     "name": "stdout",
     "output_type": "stream",
     "text": [
      "['apple', 'orange', 'banana', 'cherry']\n"
     ]
    }
   ],
   "source": [
    "#insert function\n",
    "\n",
    "fruits = ['apple', 'banana', 'cherry']\n",
    "\n",
    "fruits.insert(1, \"orange\")\n",
    "\n",
    "print(fruits)\n"
   ]
  },
  {
   "cell_type": "code",
   "execution_count": 19,
   "id": "6e70432e",
   "metadata": {},
   "outputs": [
    {
     "name": "stdout",
     "output_type": "stream",
     "text": [
      "1\n"
     ]
    }
   ],
   "source": [
    "#count function\n",
    "\n",
    "fruits = [\"apple\", \"banana\", \"cherry\"]\n",
    "\n",
    "x = fruits.count(\"cherry\")\n",
    "\n",
    "print(x)\n"
   ]
  },
  {
   "cell_type": "code",
   "execution_count": null,
   "id": "d60cdf9e",
   "metadata": {},
   "outputs": [],
   "source": []
  }
 ],
 "metadata": {
  "kernelspec": {
   "display_name": "Python 3 (ipykernel)",
   "language": "python",
   "name": "python3"
  },
  "language_info": {
   "codemirror_mode": {
    "name": "ipython",
    "version": 3
   },
   "file_extension": ".py",
   "mimetype": "text/x-python",
   "name": "python",
   "nbconvert_exporter": "python",
   "pygments_lexer": "ipython3",
   "version": "3.9.13"
  }
 },
 "nbformat": 4,
 "nbformat_minor": 5
}
